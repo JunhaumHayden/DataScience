{
 "cells": [
  {
   "metadata": {},
   "cell_type": "markdown",
   "source": [
    "# Teoria das Filas\n",
    "---\n",
    "\n",
    "A **Teoria das Filas** (Queueing Theory) é o ramo da matemática aplicada que estuda sistemas nos quais “clientes” (pessoas, tarefas, pacotes de dados, etc.) aguardam atendimento por “servidores” (caixas de banco, CPU, canais de comunicação, etc.). O objetivo é analisar o desempenho desses sistemas e otimizar o uso de recursos.\n",
    "\n",
    "---\n",
    "## 1. Componentes básicos de uma fila\n",
    "\n",
    "### Fonte de clientes\n",
    "\n",
    "- De onde vêm as chegadas (ex.: usuários acessando um site).\n",
    "\n",
    "- Pode ser finita ou infinita.\n",
    "\n",
    "### Processo de chegada\n",
    "\n",
    "- Normalmente modelado por um processo de Poisson (intervalos de chegada seguem distribuição exponencial).\n",
    "\n",
    "- Taxa média: λ (lambda).\n",
    "\n",
    "### Disciplina de fila\n",
    "\n",
    "- Ordem de atendimento:\n",
    "\n",
    "    - FIFO (First In, First Out) → mais comum.\n",
    "\n",
    "    - LIFO (Last In, First Out).\n",
    "\n",
    "    - SIRO (Service In Random Order).\n",
    "\n",
    "    - Prioridade.\n",
    "\n",
    "### Serviço\n",
    "\n",
    "- Tempo de atendimento (geralmente modelado por uma distribuição).\n",
    "\n",
    "- Taxa média: μ (mu).\n",
    "\n",
    "### Número de servidores\n",
    "\n",
    "- Um ou mais atendentes (ex.: 1 caixa no banco vs. 5 caixas).\n",
    "\n",
    "### Capacidade do sistema\n",
    "\n",
    "- Tamanho máximo da fila (pode ser infinita ou limitada).\n",
    "---\n",
    "\n",
    "## 2. Notação de Kendall\n",
    "\n",
    "A notação $A/S/c/K/m/Z$ é usada para descrever filas, mas a forma mais comum é $A/S/c$:\n",
    "\n",
    "- **A**: processo de chegada (ex.: M = Markoviano/Poisson).\n",
    "\n",
    "- **S**: distribuição do tempo de serviço (M = exponencial).\n",
    "\n",
    "- **c**: número de servidores.\n",
    "\n",
    "Exemplo:\n",
    "\n",
    "- **M/M/1** → chegadas Poisson, serviço exponencial, 1 servidor.\n",
    "\n",
    "- **M/M/c** → chegadas Poisson, serviço exponencial, c servidores.\n",
    "\n",
    "- **M/G/1** → chegadas Poisson, tempo de serviço genérico, 1 servidor.\n",
    "---\n",
    "\n",
    "## 3. Métricas principais\n",
    "\n",
    "- $ρ$ (rho): taxa de utilização = $λ / (c·μ)$.\n",
    "\n",
    "- $Lq$: número médio de clientes na fila.\n",
    "\n",
    "- $L$: número médio de clientes no sistema (fila + atendimento).\n",
    "\n",
    "- $Wq$: tempo médio de espera na fila.\n",
    "\n",
    "- $W$: tempo médio no sistema.\n",
    "\n",
    "Relação de Little:\n",
    "\n",
    "$L=λ⋅W$ e $L{q}=λ⋅W{q}$\n",
    "\n",
    "---\n",
    "\n",
    "## 4. Exemplos clássicos\n",
    "\n",
    "- M/M/1:\n",
    "\n",
    "    - $ρ = λ/μ$ (deve ser < 1 para estabilidade).\n",
    "\n",
    "    - $L{q}=\\frac{ρ^{2}}{1−ρ}$\n",
    "\n",
    "    - $W{q}=\\frac{ρ}{μ(1−ρ)}$\n",
    "    - $W=\\frac{1}{μ−λ}$\n",
    "\n",
    "- M/M/c:\n",
    "Usado em call centers, caixas de banco, servidores paralelos.\n",
    "---\n",
    "\n",
    "## 5. Aplicações\n",
    "\n",
    "Telecomunicações (roteadores, largura de banda).\n",
    "\n",
    "Computação (gerenciamento de processos, filas em sistemas distribuídos).\n",
    "\n",
    "Saúde (atendimento em hospitais).\n",
    "\n",
    "Logística (filas em portos, aeroportos, estoques).\n",
    "\n",
    "Serviços (bancos, supermercados, call centers)."
   ],
   "id": "16cfca0365a8b5f"
  },
  {
   "metadata": {},
   "cell_type": "markdown",
   "source": [
    "## Exemplo\n",
    "\n",
    "Clientes chegam a uma barbearia, de *um unico barbeiro*, com uma duraçao média entre chegadas de *20 minutos*. O barbeiro gasta em média *15 minutos com cada cliente*.\n",
    "- a) Qual a probabilidade de um cliente nao ter que esperar para ser atendido?\n",
    "- b) Qual o numero esperado de clientes no salao do barbeiro? E na fila?\n",
    "- c) Quanto tempo, em media, um cliente permanece no salao?\n",
    "- d) Quanto tempo, em media, um cliente espera na fila?\n",
    "- e) O barbeiro esta estudando a possibilidade de colocar outro barbeiro desde que o tempo de permanencia medio de cada cliente no salao passe a 1,25 hora. Para quanto deve aumentar a taxa de chegada de modo que este segundo barbeiro fique justificado?"
   ],
   "id": "64af91ba9180e006"
  },
  {
   "metadata": {},
   "cell_type": "markdown",
   "source": [
    "# Cola: Teoria das Filas — Exemplo da Barbearia (M/M/1)\n",
    "\n",
    "Documento resumido em **LaTeX/Markdown** com as fórmulas principais e os cálculos do exemplo.\n",
    "\n",
    "---\n",
    "\n",
    "## Dados do problema\n",
    "\n",
    "* Tempo médio entre chegadas: **20 minutos** → $\\lambda = 1/20 = 0{,}05$ clientes/min.\n",
    "* Tempo médio de serviço: **15 minutos** → $\\mu = 1/15 \\approx 0{,}0666667$ clientes/min.\n",
    "* Modelo: **M/M/1** (chegadas Poisson, serviço exponencial, 1 servidor).\n",
    "\n",
    "---\n",
    "\n",
    "## Fórmulas úteis (M/M/1)\n",
    "\n",
    "* Taxa de utilização: $\\rho = \\dfrac{\\lambda}{\\mu}$.\n",
    "* Probabilidade de não esperar (sistema vazio): $P_0 = 1-\\rho$.\n",
    "* Número médio no sistema: $L = \\dfrac{\\rho}{1-\\rho}$.\n",
    "* Número médio na fila: $L_q = \\dfrac{\\rho^2}{1-\\rho}$.\n",
    "* Tempo médio no sistema: $W = \\dfrac{L}{\\lambda} = \\dfrac{1}{\\mu-\\lambda}$.\n",
    "* Tempo médio de espera na fila: $W_q = \\dfrac{L_q}{\\lambda} = W - \\dfrac{1}{\\mu}$.\n",
    "* Relação de Little: $L = \\lambda W$ e $L_q = \\lambda W_q$.\n",
    "\n",
    "---\n",
    "\n",
    "## Cálculos (passo a passo)\n",
    "\n",
    "1. **Utilização**:\n",
    "\n",
    "$$\n",
    "\\rho = \\frac{\\lambda}{\\mu} = \\frac{1/20}{1/15} = \\frac{15}{20} = \\frac{3}{4} = 0{,}75.\n",
    "$$\n",
    "\n",
    "\n"
   ],
   "id": "1ee65f826c03c594"
  },
  {
   "metadata": {
    "ExecuteTime": {
     "end_time": "2025-09-10T22:57:42.667323Z",
     "start_time": "2025-09-10T22:57:42.575551Z"
    }
   },
   "cell_type": "code",
   "source": [
    "import numpy as np\n",
    "\n",
    "def mm1_metrics(lambd, mu):\n",
    "    \"\"\" Calcula métricas do modelo M/M/1 \"\"\"\n",
    "    rho = lambd / mu\n",
    "    if rho >= 1:\n",
    "        raise ValueError(\"Sistema instável: λ >= μ\")\n",
    "\n",
    "    P0 = 1 - rho               # probabilidade de não esperar\n",
    "    L = rho / (1 - rho)        # clientes no sistema\n",
    "    Lq = rho**2 / (1 - rho)    # clientes na fila\n",
    "    W = L / lambd              # tempo no sistema\n",
    "    Wq = Lq / lambd            # tempo na fila\n",
    "\n",
    "    return {\n",
    "        \"rho\": rho,\n",
    "        \"P0\": P0,\n",
    "        \"L\": L,\n",
    "        \"Lq\": Lq,\n",
    "        \"W\": W,\n",
    "        \"Wq\": Wq\n",
    "    }\n",
    "\n",
    "# ------------------------------\n",
    "# Exemplo: Barbearia\n",
    "# λ = 1 chegada a cada 20 min = 0.05 clientes/min\n",
    "# μ = 1 serviço a cada 15 min = 0.0667 clientes/min\n",
    "# ------------------------------\n",
    "lambd = 1/20  # 0.05\n",
    "mu = 1/15     # 0.0666667\n",
    "\n",
    "resultados = mm1_metrics(lambd, mu)"
   ],
   "id": "ce5cb38fd04171db",
   "outputs": [],
   "execution_count": 1
  },
  {
   "metadata": {},
   "cell_type": "markdown",
   "source": [
    "2. **(a) Probabilidade de não esperar**:\n",
    "\n",
    "$$\n",
    "P_0 = 1-\\rho = 1 - 0{,}75 = 0{,}25 = 25\\%.\n",
    "$$\n"
   ],
   "id": "8b66a920a472f7ca"
  },
  {
   "metadata": {
    "ExecuteTime": {
     "end_time": "2025-09-10T22:58:00.324450Z",
     "start_time": "2025-09-10T22:58:00.322478Z"
    }
   },
   "cell_type": "code",
   "source": "print(\"Probabilidade de não esperar:\", resultados[\"P0\"])",
   "id": "24af7ffb941e5901",
   "outputs": [
    {
     "name": "stdout",
     "output_type": "stream",
     "text": [
      "Probabilidade de não esperar: 0.25\n"
     ]
    }
   ],
   "execution_count": 2
  },
  {
   "metadata": {},
   "cell_type": "markdown",
   "source": [
    "3. **(b) Número esperado de clientes**:\n",
    "\n",
    "$$\n",
    "L = \\frac{\\rho}{1-\\rho} = \\frac{0{,}75}{0{,}25} = 3\\quad\\text{(clientes no salão)}.\n",
    "$$\n",
    "\n",
    "$$\n",
    "L_q = \\frac{\\rho^2}{1-\\rho} = \\frac{0{,}75^2}{0{,}25} = \\frac{0{,}5625}{0{,}25} = 2{,}25\\quad\\text{(clientes na fila)}.\n",
    "$$\n"
   ],
   "id": "38a1075dc0cc4efd"
  },
  {
   "metadata": {
    "ExecuteTime": {
     "end_time": "2025-09-10T22:58:04.132255Z",
     "start_time": "2025-09-10T22:58:04.130077Z"
    }
   },
   "cell_type": "code",
   "source": "print(\"Clientes no sistema (L):\", resultados[\"L\"])",
   "id": "2d8dc5ff7ed022e2",
   "outputs": [
    {
     "name": "stdout",
     "output_type": "stream",
     "text": [
      "Clientes no sistema (L): 3.0\n"
     ]
    }
   ],
   "execution_count": 3
  },
  {
   "metadata": {
    "ExecuteTime": {
     "end_time": "2025-09-10T22:58:06.259021Z",
     "start_time": "2025-09-10T22:58:06.256867Z"
    }
   },
   "cell_type": "code",
   "source": "print(\"Clientes na fila (Lq):\", resultados[\"Lq\"])",
   "id": "39b71e36ff1151e8",
   "outputs": [
    {
     "name": "stdout",
     "output_type": "stream",
     "text": [
      "Clientes na fila (Lq): 2.25\n"
     ]
    }
   ],
   "execution_count": 4
  },
  {
   "metadata": {},
   "cell_type": "markdown",
   "source": [
    "4. **(c) Tempo médio no salão (W)**:\n",
    "\n",
    "Usando $W = L/\\lambda$:\n",
    "\n",
    "$$\n",
    "W = \\frac{3}{0{,}05} = 60\\ \\text{minutos} = 1{,}0\\ \\text{hora}.\n",
    "$$\n",
    "\n",
    "(Confirmação com $W = 1/(\\mu-\\lambda) = 1/(1/15 - 1/20) = 60$ min.)\n"
   ],
   "id": "ab47e378bb68e755"
  },
  {
   "metadata": {
    "ExecuteTime": {
     "end_time": "2025-09-10T22:58:08.290383Z",
     "start_time": "2025-09-10T22:58:08.288484Z"
    }
   },
   "cell_type": "code",
   "source": "print(\"Tempo no sistema (W):\", resultados[\"W\"], \"min\")",
   "id": "594512f0064c39f5",
   "outputs": [
    {
     "name": "stdout",
     "output_type": "stream",
     "text": [
      "Tempo no sistema (W): 60.0 min\n"
     ]
    }
   ],
   "execution_count": 5
  },
  {
   "metadata": {},
   "cell_type": "markdown",
   "source": [
    "5. **(d) Tempo médio de espera na fila (W\\_q)**:\n",
    "\n",
    "$$\n",
    "W_q = \\frac{L_q}{\\lambda} = \\frac{2{,}25}{0{,}05} = 45\\ \\text{minutos}.\n",
    "$$"
   ],
   "id": "297c59d446ed5bef"
  },
  {
   "metadata": {
    "ExecuteTime": {
     "end_time": "2025-09-10T22:58:09.946727Z",
     "start_time": "2025-09-10T22:58:09.944872Z"
    }
   },
   "cell_type": "code",
   "source": "print(\"Tempo na fila (Wq):\", resultados[\"Wq\"], \"min\")",
   "id": "1342492998d4d5db",
   "outputs": [
    {
     "name": "stdout",
     "output_type": "stream",
     "text": [
      "Tempo na fila (Wq): 45.0 min\n"
     ]
    }
   ],
   "execution_count": 6
  },
  {
   "metadata": {},
   "cell_type": "markdown",
   "source": [
    "6. **(e) Quando justificar um segundo barbeiro?**\n",
    "\n",
    "Critério: colocar segundo barbeiro se o tempo médio no salão **passar a 1,25 horas** (ou seja, se o novo tempo for **>= 1{,}25 h** com *um* barbeiro? — aqui interpretamos que o barbeiro quer saber em que taxa de chegada o tempo médio com apenas um barbeiro atinge 1,25 h, para então justificar adicionar outro).\n",
    "\n",
    "Queremos $W_{target} = 1{,}25\\ \\text{h} = 75\\ \\text{min}$. Usando $W = 1/(\\mu-\\lambda_{novo})$:\n",
    "\n",
    "$$\n",
    "\\mu - \\lambda_{novo} = \\frac{1}{75}\\quad\\Rightarrow\\quad \\lambda_{novo} = \\mu - \\frac{1}{75}.\n",
    "$$\n",
    "\n",
    "Como $\\mu = 1/15 = 5/75$, então:\n",
    "\n",
    "$$\n",
    "\\lambda_{novo} = \\frac{5}{75} - \\frac{1}{75} = \\frac{4}{75} = 0{,}053333\\ldots \\text{clientes/min}.\n",
    "$$\n",
    "\n",
    "* Isso corresponde a **tempo médio entre chegadas = 1/$\\lambda_{novo}$ = 18{,}75 minutos**.\n",
    "* Aumento percentual na taxa de chegadas:\n",
    "\n",
    "$$\n",
    "\\frac{\\lambda_{novo}-\\lambda}{\\lambda} = \\frac{0{,}0533333 - 0{,}05}{0{,}05} \\approx 0{,}0666667 = 6{,}6667\\%.\n",
    "$$\n",
    "\n",
    "* Utilização correspondente: $\\rho_{novo} = \\lambda_{novo}/\\mu = 0{,}8$ (80%).\n",
    "\n",
    "Portanto, **a taxa de chegada deve aumentar de 0{,}05 para 0{,}053333 clientes/min** (ou o tempo médio entre chegadas diminuir de 20 min para **18,75 min**) — um aumento ≈ **6,67%** — para que o tempo médio no salão atinja 1,25 h sob o modelo M/M/1.\n"
   ],
   "id": "bc1a78ba90a72058"
  },
  {
   "metadata": {
    "ExecuteTime": {
     "end_time": "2025-09-10T22:58:13.234944Z",
     "start_time": "2025-09-10T22:58:13.232405Z"
    }
   },
   "cell_type": "code",
   "source": [
    "# ------------------------------\n",
    "# Parte (e): encontrar λ que gera W = 75 min (1.25h)\n",
    "# Fórmula: W = 1 / (μ - λ) => λ = μ - 1/W\n",
    "# ------------------------------\n",
    "W_target = 75  # minutos\n",
    "lambda_novo = mu - 1/W_target\n",
    "print(\"\\nNova taxa de chegada (λ novo):\", lambda_novo, \"clientes/min\")\n",
    "print(\"Novo tempo médio entre chegadas:\", 1/lambda_novo, \"min\")\n",
    "print(\"Aumento percentual:\", (lambda_novo - lambd)/lambd * 100, \"%\")"
   ],
   "id": "8bc5ecbe25e9dc65",
   "outputs": [
    {
     "name": "stdout",
     "output_type": "stream",
     "text": [
      "\n",
      "Nova taxa de chegada (λ novo): 0.05333333333333333 clientes/min\n",
      "Novo tempo médio entre chegadas: 18.75 min\n",
      "Aumento percentual: 6.666666666666654 %\n"
     ]
    }
   ],
   "execution_count": 7
  },
  {
   "metadata": {},
   "cell_type": "markdown",
   "source": [
    "---\n",
    "\n",
    "## Observações rápidas\n",
    "\n",
    "* O modelo M/M/1 pressupõe chegadas Poisson e serviço exponencial; se a realidade não seguir estas hipóteses (por ex., serviço com variabilidade baixa), os números podem divergir.\n",
    "* Para avaliar a **efetiva** necessidade de um 2.º barbeiro, vale também simular (fila M/M/c ou simulação discreta) considerando custo do barbeiro vs. ganho em tempo de espera.\n",
    "\n",
    "---\n",
    "\n",
    "*Se quiser, exporto isso em PDF ou num arquivo `.tex` pronto para imprimir.*"
   ],
   "id": "60a6f63177957cda"
  },
  {
   "metadata": {},
   "cell_type": "markdown",
   "source": [
    "## Referencias\n",
    "\n",
    "https://www.google.com/search?client=ubuntu-sn&channel=fs&q=teoria+das+filas+estatistica\n",
    "https://www.heliton.ufpa.br/arquivos/probabilidade/estocasticos/SLIDES_processos_estocasticos_PARTE_V.pdf"
   ],
   "id": "3ce75e4703d5b5d1"
  }
 ],
 "metadata": {
  "kernelspec": {
   "display_name": "Python 3",
   "language": "python",
   "name": "python3"
  },
  "language_info": {
   "codemirror_mode": {
    "name": "ipython",
    "version": 2
   },
   "file_extension": ".py",
   "mimetype": "text/x-python",
   "name": "python",
   "nbconvert_exporter": "python",
   "pygments_lexer": "ipython2",
   "version": "2.7.6"
  }
 },
 "nbformat": 4,
 "nbformat_minor": 5
}
